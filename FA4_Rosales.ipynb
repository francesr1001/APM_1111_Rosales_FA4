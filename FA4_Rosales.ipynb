{
 "cells": [
  {
   "cell_type": "markdown",
   "id": "bfcf02ce",
   "metadata": {},
   "source": [
    "\n",
    "        \n",
    "<div> \n",
    "\t\t\t<h2 style =\" margin-top: 5px;\" >&emsp;&emsp;&emsp;&emsp;Name: Frances Aneth Rosales <br> &emsp;&emsp;&emsp;&emsp;Student Number: 2021044631  </h2>\n",
    "</div>\n",
    "\t\t<br><br><br>\n",
    "        \n",
    "        \n"
   ]
  },
  {
   "cell_type": "code",
   "execution_count": 80,
   "id": "e07a2762",
   "metadata": {},
   "outputs": [],
   "source": [
    "import pandas as pd\n",
    "import numpy as np\n",
    "\n",
    "file_path = \"Table_5.1.xlsx\"  \n",
    "data_sheet = pd.read_excel(file_path, sheet_name=\"Data_Sheet\")\n",
    "\n",
    "normal_data = data_sheet[\"Normal\"].values  \n",
    "skewed_right_data = data_sheet[\"Skewed-Right\"].values  \n",
    "skewed_left_data = data_sheet[\"Skewed-Left\"].values  \n",
    "uniform_data = data_sheet[\"Uniform\"].values \n",
    "\n",
    "\n",
    "datframe_uniform = pd.DataFrame({\"Uniform Data\": uniform_data})\n",
    "datframe_normal = pd.DataFrame({\"Normal Data\": normal_data})\n",
    "datframe_skewed_right = pd.DataFrame({\"Skewed-Right Data\": skewed_right_data})\n",
    "datframe_skewed_left = pd.DataFrame({\"Skewed-Left Data\": skewed_left_data})\n"
   ]
  },
  {
   "cell_type": "markdown",
   "id": "624cbb99",
   "metadata": {},
   "source": [
    "<br> <br>\n",
    "\n",
    "\n",
    "\n",
    "# Find the (a) first, (b) second, (c) third, and (d ) fourth moments for each of the sets of data (normal, skewed-right, skewed-left, uniform).\n",
    "\n"
   ]
  },
  {
   "cell_type": "markdown",
   "id": "e0b71485",
   "metadata": {},
   "source": [
    "<br> <br>\n",
    "\n",
    "\n",
    "\n",
    "# a \n",
    " \n",
    "<html>\n",
    "<head>\n",
    "</head>\n",
    "<body>\n",
    "    <table border=\"3\">\n",
    "        <tr>\n",
    "            <td> </td>\n",
    "            <td><b>First moments for each of the sets of data (normal, skewed-right, skewed-left, uniform).</b></td>\n",
    "        </tr>\n",
    "    </table>\n",
    "</body>\n",
    "</html>\n"
   ]
  },
  {
   "cell_type": "code",
   "execution_count": 81,
   "id": "d9e902f0",
   "metadata": {
    "scrolled": true
   },
   "outputs": [
    {
     "name": "stdout",
     "output_type": "stream",
     "text": [
      "First Moment of Normal: 65.12\n",
      "First Moment of Skewed-Right: 35.48\n",
      "First Moment of Skewed-Left: 74.2\n",
      "First Moment of Uniform: 12.056\n"
     ]
    }
   ],
   "source": [
    "#a \n",
    "\n",
    "sum_normal_1stM=0\n",
    "\n",
    "\n",
    "for i in data_sheet[\"Normal\"].values:  \n",
    "    sum_normal_1stM += i\n",
    "\n",
    "First_Moment_normal= sum_normal_1stM / len(data_sheet[\"Normal\"].values)\n",
    "print(\"First Moment of Normal:\", First_Moment_normal) \n",
    "#----------------------------------------------------------\n",
    "sum_skewed_right_1stM=0\n",
    "\n",
    "\n",
    "for i in data_sheet[\"Skewed-Right\"].values:  \n",
    "    sum_skewed_right_1stM += i\n",
    "\n",
    "First_Moment_Skewed_Right= sum_skewed_right_1stM / len(data_sheet[\"Skewed-Right\"].values)\n",
    "print(\"First Moment of Skewed-Right:\", First_Moment_Skewed_Right) \n",
    "#----------------------------------------------------------\n",
    "\n",
    "sum_skewed_left_1stM=0\n",
    "\n",
    "\n",
    "for i in data_sheet[\"Skewed-Left\"].values:  \n",
    "    sum_skewed_left_1stM += i\n",
    "\n",
    "First_Moment_Skewed_Left= sum_skewed_left_1stM / len(data_sheet[\"Skewed-Left\"].values)\n",
    "print(\"First Moment of Skewed-Left:\", First_Moment_Skewed_Left) \n",
    "#----------------------------------------------------------\n",
    "\n",
    "sum_Uniform_1stM=0\n",
    "\n",
    "\n",
    "for i in data_sheet[\"Uniform\"].values:  \n",
    "    sum_Uniform_1stM += i\n",
    "\n",
    "First_Moment_Uniform= sum_Uniform_1stM / len(data_sheet[\"Uniform\"].values)\n",
    "#print(\"First Moment of Uniform:\", First_Moment_Uniform) \n",
    "print(\"First Moment of Uniform: {:.3f}\".format(First_Moment_Uniform))\n",
    "\n",
    "#----------------------------------------------------------"
   ]
  },
  {
   "cell_type": "markdown",
   "id": "9f82d9e9",
   "metadata": {},
   "source": [
    "<br> <br>\n",
    "\n",
    "\n",
    "\n",
    "# b\n",
    "<b> \n",
    "    \n",
    "<html>\n",
    "<head>\n",
    "</head>\n",
    "<body>\n",
    "    <table border=\"1\">\n",
    "        <tr>\n",
    "            <td> </td>\n",
    "            <td><b>2nd moments for each of the sets of data (normal, skewed-right, skewed-left, uniform).\n",
    "   </b></td>\n",
    "        </tr>\n",
    "    </table>\n",
    "</body>\n",
    "</html>\n"
   ]
  },
  {
   "cell_type": "code",
   "execution_count": 82,
   "id": "33232b71",
   "metadata": {
    "scrolled": true
   },
   "outputs": [
    {
     "name": "stdout",
     "output_type": "stream",
     "text": [
      "Second Moment of Normal: 4248.92\n",
      "Second Moment of Skewed-Right: 1437.72\n",
      "Second Moment of Skewed-Left: 5925.4\n",
      "Second Moment of Uniform: 145.426\n"
     ]
    }
   ],
   "source": [
    "\n",
    "#b \n",
    "\n",
    "sum_normal_2ndM=0\n",
    "\n",
    "\n",
    "for i in data_sheet[\"Normal\"].values:  \n",
    "    sum_normal_2ndM += i ** 2\n",
    "\n",
    "Second_Moment_normal= sum_normal_2ndM / len(data_sheet[\"Normal\"].values)\n",
    "print(\"Second Moment of Normal:\", Second_Moment_normal) \n",
    "#----------------------------------------------------------\n",
    "sum_skewed_right_2ndM=0\n",
    "\n",
    "\n",
    "for i in data_sheet[\"Skewed-Right\"].values:  \n",
    "    sum_skewed_right_2ndM += i ** 2\n",
    "\n",
    "Second_Moment_skewed_right= sum_skewed_right_2ndM / len(data_sheet[\"Skewed-Right\"].values)\n",
    "print(\"Second Moment of Skewed-Right:\", Second_Moment_skewed_right)\n",
    "#----------------------------------------------------------\n",
    "sum_skewed_left_2ndM=0\n",
    "\n",
    "\n",
    "for i in data_sheet[\"Skewed-Left\"].values:  \n",
    "    sum_skewed_left_2ndM += i ** 2\n",
    "\n",
    "Second_Moment_skewed_left= sum_skewed_left_2ndM / len(data_sheet[\"Skewed-Left\"].values)\n",
    "print(\"Second Moment of Skewed-Left:\", Second_Moment_skewed_left)\n",
    "#----------------------------------------------------------\n",
    "sum_Uniform_2ndM=0\n",
    "\n",
    "\n",
    "for i in data_sheet[\"Uniform\"].values:  \n",
    "    sum_Uniform_2ndM += i ** 2\n",
    "\n",
    "Second_Moment_Uniform= sum_Uniform_2ndM / len(data_sheet[\"Uniform\"].values)\n",
    "#print(\"Second Moment of Uniform:\", Second_Moment_Uniform)\n",
    "print(\"Second Moment of Uniform: {:.3f}\".format(Second_Moment_Uniform))\n",
    "\n",
    "#----------------------------------------------------------"
   ]
  },
  {
   "cell_type": "markdown",
   "id": "89c270cb",
   "metadata": {},
   "source": [
    "<br> <br>\n",
    "\n",
    "\n",
    "# c\n",
    "<b> \n",
    "    \n",
    "<html>\n",
    "<head>\n",
    "</head>\n",
    "<body>\n",
    "    <table border=\"1\">\n",
    "        <tr>\n",
    "            <td> </td>\n",
    "            <td><b>\n",
    "                3rd moments for each of the sets of data (normal, skewed-right, skewed-left, uniform).\n",
    "   </b></td>\n",
    "        </tr>\n",
    "    </table>\n",
    "</body>\n",
    "</html>\n"
   ]
  },
  {
   "cell_type": "code",
   "execution_count": 83,
   "id": "c50e03dc",
   "metadata": {},
   "outputs": [
    {
     "name": "stdout",
     "output_type": "stream",
     "text": [
      "Third Moment of Normal: 277770.92\n",
      "Third Moment of Skewed-Right: 68292.44\n",
      "Third Moment of Skewed-Left: 489458.8\n",
      "Third Moment of Uniform: 1755.158\n"
     ]
    }
   ],
   "source": [
    "\n",
    "sum_normal_3rdM=0\n",
    "\n",
    "\n",
    "for i in data_sheet[\"Normal\"].values:  \n",
    "    sum_normal_3rdM += i ** 3\n",
    "\n",
    "Third_Moment_normal= sum_normal_3rdM / len(data_sheet[\"Normal\"].values)\n",
    "print(\"Third Moment of Normal:\", Third_Moment_normal) \n",
    "#----------------------------------------------------------\n",
    "sum_skewed_right_3rdM=0\n",
    "\n",
    "\n",
    "for i in data_sheet[\"Skewed-Right\"].values:  \n",
    "    sum_skewed_right_3rdM += i ** 3\n",
    "\n",
    "Third_Moment_skewed_right= sum_skewed_right_3rdM / len(data_sheet[\"Skewed-Right\"].values)\n",
    "print(\"Third Moment of Skewed-Right:\", Third_Moment_skewed_right) \n",
    "#----------------------------------------------------------\n",
    "sum_skewed_left_3rdM=0\n",
    "\n",
    "\n",
    "for i in data_sheet[\"Skewed-Left\"].values:  \n",
    "    sum_skewed_left_3rdM += i ** 3\n",
    "\n",
    "Third_Moment_skewed_left= sum_skewed_left_3rdM / len(data_sheet[\"Skewed-Left\"].values)\n",
    "print(\"Third Moment of Skewed-Left:\", Third_Moment_skewed_left) \n",
    "#----------------------------------------------------------\n",
    "\n",
    "sum_Uniform_3rdM=0\n",
    "\n",
    "\n",
    "for i in data_sheet[\"Uniform\"].values:  \n",
    "    sum_Uniform_3rdM += i ** 3\n",
    "\n",
    "Third_Moment_Uniform= sum_Uniform_3rdM / len(data_sheet[\"Uniform\"].values)\n",
    "#print(\"Third Moment of Uniform:\", Third_Moment_Uniform) \n",
    "print(\"Third Moment of Uniform: {:.3f}\".format(Third_Moment_Uniform))\n",
    "\n",
    "#----------------------------------------------------------"
   ]
  },
  {
   "cell_type": "markdown",
   "id": "f93e1581",
   "metadata": {},
   "source": [
    "<br> <br>\n",
    "\n",
    "\n",
    "\n",
    "# d\n",
    "<b> \n",
    "    \n",
    "<html>\n",
    "<head>\n",
    "</head>\n",
    "<body>\n",
    "    <table border=\"1\">\n",
    "        <tr>\n",
    "            <td> </td>\n",
    "            <td><b>\n",
    "               4th moments for each of the sets of data (normal, skewed-right, skewed-left, uniform).\n",
    "    </b></td>\n",
    "        </tr>\n",
    "    </table>\n",
    "</body>\n",
    "</html>\n"
   ]
  },
  {
   "cell_type": "code",
   "execution_count": 84,
   "id": "e34c26a7",
   "metadata": {
    "scrolled": false
   },
   "outputs": [
    {
     "name": "stdout",
     "output_type": "stream",
     "text": [
      "Fourth Moment of Normal: 18194173.64\n",
      "Fourth Moment of Skewed-Right: 3797594.04\n",
      "Fourth Moment of Skewed-Left: 41396161.48\n",
      "Fourth Moment of Uniform: 21194.593\n"
     ]
    }
   ],
   "source": [
    "sum_normal_4thM=0\n",
    "\n",
    "\n",
    "for i in data_sheet[\"Normal\"].values:  \n",
    "    sum_normal_4thM += i ** 4\n",
    "\n",
    "Fourth_Moment_normal= sum_normal_4thM / len(data_sheet[\"Normal\"].values)\n",
    "print(\"Fourth Moment of Normal:\", Fourth_Moment_normal) \n",
    "#----------------------------------------------------------\n",
    "\n",
    "sum_skewed_right_4thM=0\n",
    "\n",
    "\n",
    "for i in data_sheet[\"Skewed-Right\"].values:  \n",
    "    sum_skewed_right_4thM += i ** 4\n",
    "\n",
    "Fourth_Moment_skewed_right= sum_skewed_right_4thM / len(data_sheet[\"Skewed-Right\"].values)\n",
    "print(\"Fourth Moment of Skewed-Right:\", Fourth_Moment_skewed_right) \n",
    "#----------------------------------------------------------\n",
    "\n",
    "sum_skewed_left_4thM=0\n",
    "\n",
    "\n",
    "for i in data_sheet[\"Skewed-Left\"].values:  \n",
    "    sum_skewed_left_4thM += i ** 4\n",
    "\n",
    "Fourth_Moment_skewed_left= sum_skewed_left_4thM / len(data_sheet[\"Skewed-Left\"].values)\n",
    "print(\"Fourth Moment of Skewed-Left:\", Fourth_Moment_skewed_left) \n",
    "#----------------------------------------------------------\n",
    "\n",
    "sum_Uniform_4thM=0\n",
    "\n",
    "\n",
    "for i in data_sheet[\"Uniform\"].values:  \n",
    "    sum_Uniform_4thM += i ** 4\n",
    "\n",
    "Fourth_Moment_Uniform= sum_Uniform_4thM / len(data_sheet[\"Uniform\"].values)\n",
    "#print(\"Fourth Moment of Uniform:\", Fourth_Moment_Uniform)\n",
    "print(\"Fourth Moment of Uniform: {:.3f}\".format(Fourth_Moment_Uniform))\n",
    "\n",
    "#----------------------------------------------------------\n",
    "\n"
   ]
  },
  {
   "cell_type": "markdown",
   "id": "f145f0c5",
   "metadata": {},
   "source": [
    "<br> <br>\n",
    "\n",
    "\n",
    "<br> <br>\n",
    "\n",
    "\n",
    "# Find the (a) first, (b) second, (c) third, and (d ) fourth moments about the mean for each of the sets of data (normal, skewed-right, skewed-left, uniform).\n",
    "\n",
    "# a\n",
    "<b> \n",
    "    \n",
    "    \n",
    "<b> \n",
    "    \n",
    "<html>\n",
    "<head>\n",
    "</head>\n",
    "<body>\n",
    "    <table border=\"1\">\n",
    "        <tr >\n",
    "            <td> </td>\n",
    "            <td><b style=\"font-size:20px;\">\n",
    "               first moments about the mean for each of the sets of data (normal, skewed-right, skewed-left, uniform).\n",
    "    </b></td>\n",
    "        </tr>\n",
    "    </table>\n",
    "</body>\n",
    "</html>\n"
   ]
  },
  {
   "cell_type": "code",
   "execution_count": 85,
   "id": "4f02ec8d",
   "metadata": {
    "scrolled": true
   },
   "outputs": [
    {
     "name": "stdout",
     "output_type": "stream",
     "text": [
      "First Moment of Normal: -4.547473508864641e-15\n",
      "First Moment of Skewed-Right: 4.121147867408581e-15\n",
      "First Moment of Skewed-Left: -2.842170943040401e-15\n",
      "First Moment of Uniform: -9.237055564881303e-16\n"
     ]
    }
   ],
   "source": [
    "#a \n",
    "\n",
    "asum_normal_1stM=0\n",
    "\n",
    "\n",
    "for i in data_sheet[\"Normal\"].values:  \n",
    "    asum_normal_1stM += ((i)-First_Moment_normal)\n",
    "\n",
    "aFirst_Moment_normal= asum_normal_1stM / len(data_sheet[\"Normal\"].values)\n",
    "print(\"First Moment of Normal:\", aFirst_Moment_normal) \n",
    "\n",
    "\n",
    "\n",
    "#----------------------------------------------------------\n",
    "asum_skewed_right_1stM=0\n",
    "\n",
    "\n",
    "for i in data_sheet[\"Skewed-Right\"].values:  \n",
    "    asum_skewed_right_1stM += ((i)-First_Moment_Skewed_Right)\n",
    "\n",
    "aFirst_Moment_Skewed_Right= asum_skewed_right_1stM / len(data_sheet[\"Skewed-Right\"].values)\n",
    "print(\"First Moment of Skewed-Right:\", aFirst_Moment_Skewed_Right) \n",
    "#----------------------------------------------------------\n",
    "\n",
    "asum_skewed_left_1stM=0\n",
    "\n",
    "\n",
    "for i in data_sheet[\"Skewed-Left\"].values:  \n",
    "    asum_skewed_left_1stM += ((i)-First_Moment_Skewed_Left)\n",
    "\n",
    "aFirst_Moment_Skewed_Left= asum_skewed_left_1stM / len(data_sheet[\"Skewed-Left\"].values)\n",
    "print(\"First Moment of Skewed-Left:\", aFirst_Moment_Skewed_Left) \n",
    "#----------------------------------------------------------\n",
    "\n",
    "asum_Uniform_1stM=0\n",
    "\n",
    "\n",
    "for i in data_sheet[\"Uniform\"].values:  \n",
    "    asum_Uniform_1stM += ((i)-First_Moment_Uniform)\n",
    "\n",
    "aFirst_Moment_Uniform= asum_Uniform_1stM / len(data_sheet[\"Uniform\"].values)\n",
    "print(\"First Moment of Uniform:\", aFirst_Moment_Uniform) \n",
    "#----------------------------------------------------------\n",
    "#----------------------------------------------------------\n",
    "#----------------------------------------------------------\n",
    "\n",
    "\n"
   ]
  },
  {
   "cell_type": "markdown",
   "id": "c567ff15",
   "metadata": {},
   "source": [
    "<br> <br>\n",
    "\n",
    "\n",
    "# b\n",
    "<b> \n",
    "    \n",
    "<html>\n",
    "<head>\n",
    "</head>\n",
    "<body>\n",
    "    <table border=\"1\">\n",
    "        <tr >\n",
    "            <td> </td>\n",
    "            <td><b style=\"font-size:20px;\">\n",
    "              2nd moments about the mean for each of the sets of data (normal, skewed-right, skewed-left, uniform).\n",
    "    </b></td>\n",
    "        </tr>\n",
    "    </table>\n",
    "</body>\n",
    "</html>\n"
   ]
  },
  {
   "cell_type": "code",
   "execution_count": 86,
   "id": "da09ef20",
   "metadata": {
    "scrolled": true
   },
   "outputs": [
    {
     "name": "stdout",
     "output_type": "stream",
     "text": [
      "Second Moment of Normal: 8.305600000000007\n",
      "Second Moment of Skewed-Right: 178.88960000000006\n",
      "Second Moment of Skewed-Left: 419.76\n",
      "Second Moment of Uniform: 0.07886400000000006\n"
     ]
    }
   ],
   "source": [
    "\n",
    "#b \n",
    "\n",
    "asum_normal_2ndM=0\n",
    "\n",
    "for i in data_sheet[\"Normal\"].values:  \n",
    "    asum_normal_2ndM += ((i)-First_Moment_normal) ** 2\n",
    "\n",
    "aS_Moment_normal= asum_normal_2ndM / len(data_sheet[\"Normal\"].values)\n",
    "print(\"Second Moment of Normal:\", aS_Moment_normal) \n",
    "\n",
    "#----------------------------------------------------------\n",
    "asum_skewed_right_2ndM=0\n",
    "\n",
    "\n",
    "for i in data_sheet[\"Skewed-Right\"].values:  \n",
    "    asum_skewed_right_2ndM += ((i)-First_Moment_Skewed_Right) ** 2\n",
    "\n",
    "aS_Moment_skewed_right= asum_skewed_right_2ndM / len(data_sheet[\"Skewed-Right\"].values)\n",
    "print(\"Second Moment of Skewed-Right:\", aS_Moment_skewed_right)\n",
    "\n",
    "#----------------------------------------------------------\n",
    "asum_skewed_left_2ndM=0\n",
    "\n",
    "\n",
    "for i in data_sheet[\"Skewed-Left\"].values:  \n",
    "    asum_skewed_left_2ndM += ((i)-First_Moment_Skewed_Left) ** 2\n",
    "\n",
    "aS_Moment_skewed_left= asum_skewed_left_2ndM / len(data_sheet[\"Skewed-Left\"].values)\n",
    "print(\"Second Moment of Skewed-Left:\", aS_Moment_skewed_left)\n",
    "#----------------------------------------------------------\n",
    "asum_Uniform_2ndM=0\n",
    "\n",
    "\n",
    "for i in data_sheet[\"Uniform\"].values:  \n",
    "    asum_Uniform_2ndM += ((i)-First_Moment_Uniform) ** 2\n",
    "\n",
    "aS_Moment_Uniform= asum_Uniform_2ndM / len(data_sheet[\"Uniform\"].values)\n",
    "print(\"Second Moment of Uniform:\", aS_Moment_Uniform)\n",
    "#----------------------------------------------------------\n"
   ]
  },
  {
   "cell_type": "markdown",
   "id": "006bdf42",
   "metadata": {},
   "source": [
    "<br> <br>\n",
    "\n",
    "\n",
    "# c\n",
    "    \n",
    "<html>\n",
    "<head>\n",
    "</head>\n",
    "<body>\n",
    "    <table border=\"1\">\n",
    "        <tr >\n",
    "            <td> </td>\n",
    "            <td><b style=\"font-size:20px;\">\n",
    "              3rd moments about the mean for each of the sets of data (normal, skewed-right, skewed-left, uniform).\n",
    "    </b></td>\n",
    "        </tr>\n",
    "    </table>\n",
    "</body>\n",
    "</html>\n"
   ]
  },
  {
   "cell_type": "code",
   "execution_count": 87,
   "id": "24568a6c",
   "metadata": {},
   "outputs": [
    {
     "name": "stdout",
     "output_type": "stream",
     "text": [
      "Third Moment of Normal: -0.47174400000011113\n",
      "Third Moment of Skewed-Right: 4588.1283840000015\n",
      "Third Moment of Skewed-Left: -12498.264000000003\n",
      "Third Moment of Uniform: 0.0003352319999997715\n"
     ]
    }
   ],
   "source": [
    "bsum_normal_3rdM=0\n",
    "\n",
    "\n",
    "for i in data_sheet[\"Normal\"].values:  \n",
    "    bsum_normal_3rdM += ((i)-First_Moment_normal) ** 3\n",
    "\n",
    "aT_Moment_normal= bsum_normal_3rdM / len(data_sheet[\"Normal\"].values)\n",
    "print(\"Third Moment of Normal:\", aT_Moment_normal) \n",
    "#----------------------------------------------------------\n",
    "bsum_skewed_right_3rdM=0\n",
    "\n",
    "\n",
    "for i in data_sheet[\"Skewed-Right\"].values:  \n",
    "    bsum_skewed_right_3rdM +=((i)-First_Moment_Skewed_Right) ** 3\n",
    "\n",
    "aT_skewed_right= bsum_skewed_right_3rdM / len(data_sheet[\"Skewed-Right\"].values)\n",
    "print(\"Third Moment of Skewed-Right:\", aT_skewed_right) \n",
    "#----------------------------------------------------------\n",
    "bsum_skewed_left_3rdM=0\n",
    "\n",
    "\n",
    "for i in data_sheet[\"Skewed-Left\"].values:  \n",
    "    bsum_skewed_left_3rdM += ((i)-First_Moment_Skewed_Left) ** 3\n",
    "\n",
    "aT_Moment_skewed_left= bsum_skewed_left_3rdM / len(data_sheet[\"Skewed-Left\"].values)\n",
    "print(\"Third Moment of Skewed-Left:\", aT_Moment_skewed_left) \n",
    "#----------------------------------------------------------\n",
    "\n",
    "bsum_Uniform_3rdM=0\n",
    "\n",
    "\n",
    "for i in data_sheet[\"Uniform\"].values:  \n",
    "    bsum_Uniform_3rdM += ((i)-First_Moment_Uniform) ** 3\n",
    "\n",
    "aT_Moment_Uniform= bsum_Uniform_3rdM / len(data_sheet[\"Uniform\"].values)\n",
    "print(\"Third Moment of Uniform:\", aT_Moment_Uniform) \n",
    "#----------------------------------------------------------\n",
    "\n",
    "\n"
   ]
  },
  {
   "cell_type": "markdown",
   "id": "5ba8eb01",
   "metadata": {},
   "source": [
    "<br> <br>\n",
    "\n",
    "\n",
    "# d\n",
    "<b> \n",
    "\n",
    "<html>\n",
    "<head>\n",
    "</head>\n",
    "<body>\n",
    "    <table border=\"1\">\n",
    "        <tr >\n",
    "            <td> </td>\n",
    "            <td><b style=\"font-size:20px;\">\n",
    "             4th moments about the mean for each of the sets of data (normal, skewed-right, skewed-left, uniform).\n",
    "    </b></td>\n",
    "        </tr>\n",
    "    </table>\n",
    "</body>\n",
    "</html>\n"
   ]
  },
  {
   "cell_type": "code",
   "execution_count": 88,
   "id": "5a1fc416",
   "metadata": {
    "scrolled": true
   },
   "outputs": [
    {
     "name": "stdout",
     "output_type": "stream",
     "text": [
      "Fourth Moment of Normal: 160.94862592000004\n",
      "Fourth Moment of Skewed-Right: 210642.8834355201\n",
      "Fourth Moment of Skewed-Left: 927289.7472000001\n",
      "Fourth Moment of Uniform: 0.011251168512000018\n"
     ]
    }
   ],
   "source": [
    "csum_normal_4thM=0\n",
    "\n",
    "\n",
    "for i in data_sheet[\"Normal\"].values:  \n",
    "    csum_normal_4thM += ((i)-First_Moment_normal) ** 4\n",
    "\n",
    "aF_Moment_normal= csum_normal_4thM / len(data_sheet[\"Normal\"].values)\n",
    "print(\"Fourth Moment of Normal:\", aF_Moment_normal) \n",
    "#----------------------------------------------------------\n",
    "\n",
    "csum_skewed_right_4thM=0\n",
    "\n",
    "\n",
    "for i in data_sheet[\"Skewed-Right\"].values:  \n",
    "    csum_skewed_right_4thM += ((i)-First_Moment_Skewed_Right) ** 4\n",
    "\n",
    "aF_Moment_skewed_right= csum_skewed_right_4thM / len(data_sheet[\"Skewed-Right\"].values)\n",
    "print(\"Fourth Moment of Skewed-Right:\", aF_Moment_skewed_right) \n",
    "#----------------------------------------------------------\n",
    "\n",
    "csum_skewed_left_4thM=0\n",
    "\n",
    "\n",
    "for i in data_sheet[\"Skewed-Left\"].values:  \n",
    "    csum_skewed_left_4thM += ((i)-First_Moment_Skewed_Left) ** 4\n",
    "\n",
    "aF_Moment_skewed_left= csum_skewed_left_4thM / len(data_sheet[\"Skewed-Left\"].values)\n",
    "print(\"Fourth Moment of Skewed-Left:\", aF_Moment_skewed_left) \n",
    "#----------------------------------------------------------\n",
    "\n",
    "csum_Uniform_4thM=0\n",
    "\n",
    "\n",
    "for i in data_sheet[\"Uniform\"].values:  \n",
    "    csum_Uniform_4thM +=  ((i)-First_Moment_Uniform) **4\n",
    "\n",
    "aF_Moment_Uniform= csum_Uniform_4thM / len(data_sheet[\"Uniform\"].values)\n",
    "print(\"Fourth Moment of Uniform:\", aF_Moment_Uniform) \n",
    "#----------------------------------------------------------\n",
    "\n"
   ]
  },
  {
   "cell_type": "markdown",
   "id": "bc168822",
   "metadata": {},
   "source": [
    "<br> <br>\n",
    "\n",
    "\n",
    "<br> <br>\n",
    "\n",
    "\n",
    "# Find the (a) first, (b) second, (c) third, and (d ) fourth moments about the number 75 for the set of female height measurements.\n",
    "\n",
    "# (a) first"
   ]
  },
  {
   "cell_type": "code",
   "execution_count": 89,
   "id": "259791c6",
   "metadata": {},
   "outputs": [
    {
     "name": "stdout",
     "output_type": "stream",
     "text": [
      "First Moment of Normal: -9.88\n"
     ]
    }
   ],
   "source": [
    "#a \n",
    "\n",
    "asum_normal_1stM_75=0\n",
    "\n",
    "\n",
    "for i in data_sheet[\"Normal\"].values:  \n",
    "    asum_normal_1stM_75 += ((i)-75)\n",
    "\n",
    "aFirst_Moment_normal_75= asum_normal_1stM_75 / len(data_sheet[\"Normal\"].values)\n",
    "print(\"First Moment of Normal:\", aFirst_Moment_normal_75) \n",
    "\n"
   ]
  },
  {
   "cell_type": "markdown",
   "id": "a50d8af5",
   "metadata": {},
   "source": [
    "# (b) Second"
   ]
  },
  {
   "cell_type": "code",
   "execution_count": 90,
   "id": "a9dcbee5",
   "metadata": {},
   "outputs": [
    {
     "name": "stdout",
     "output_type": "stream",
     "text": [
      "Second Moment of Normal: 105.92\n"
     ]
    }
   ],
   "source": [
    "\n",
    "\n",
    "#b \n",
    "\n",
    "asum_normal_2ndM_75=0\n",
    "\n",
    "for i in data_sheet[\"Normal\"].values:  \n",
    "    asum_normal_2ndM_75 += ((i)-75) ** 2\n",
    "\n",
    "aS_Moment_normal_75= asum_normal_2ndM_75 / len(data_sheet[\"Normal\"].values)\n",
    "print(\"Second Moment of Normal:\", aS_Moment_normal_75) "
   ]
  },
  {
   "cell_type": "markdown",
   "id": "9973a4a6",
   "metadata": {},
   "source": [
    "# (c) Third"
   ]
  },
  {
   "cell_type": "code",
   "execution_count": 91,
   "id": "394a9ea6",
   "metadata": {},
   "outputs": [
    {
     "name": "stdout",
     "output_type": "stream",
     "text": [
      "Third Moment of Normal: -1211.08\n"
     ]
    }
   ],
   "source": [
    "\n",
    "bsum_normal_3rdM_75=0\n",
    "\n",
    "\n",
    "for i in data_sheet[\"Normal\"].values:  \n",
    "    bsum_normal_3rdM_75 += ((i)-75) ** 3\n",
    "\n",
    "aT_Moment_normal_75= bsum_normal_3rdM_75 / len(data_sheet[\"Normal\"].values)\n",
    "print(\"Third Moment of Normal:\", aT_Moment_normal_75) "
   ]
  },
  {
   "cell_type": "markdown",
   "id": "74d92ce6",
   "metadata": {},
   "source": [
    "# (d) Fourth"
   ]
  },
  {
   "cell_type": "code",
   "execution_count": 92,
   "id": "024f628e",
   "metadata": {},
   "outputs": [
    {
     "name": "stdout",
     "output_type": "stream",
     "text": [
      "Fourth Moment of Normal: 14572.64\n"
     ]
    }
   ],
   "source": [
    "\n",
    "\n",
    "\n",
    "csum_normal_4thM_75=0\n",
    "\n",
    "\n",
    "for i in data_sheet[\"Normal\"].values:  \n",
    "    csum_normal_4thM_75 += ((i)-75) ** 4\n",
    "\n",
    "aF_Moment_normal_75= csum_normal_4thM_75 / len(data_sheet[\"Normal\"].values)\n",
    "print(\"Fourth Moment of Normal:\", aF_Moment_normal_75) "
   ]
  },
  {
   "cell_type": "markdown",
   "id": "c9efcffb",
   "metadata": {},
   "source": [
    "<br> <br>\n",
    "\n",
    "\n",
    "<br> <br>\n",
    "\n",
    "\n",
    "# Using the results of items 2 and 3 for the set of female height measurements, verify the relations between the moments \n"
   ]
  },
  {
   "cell_type": "markdown",
   "id": "24dad418",
   "metadata": {},
   "source": [
    "# a.) We have shown here that both are equal\n",
    "<i>\n",
    "    <math xmlns=\"http://www.w3.org/1998/Math/MathML\">\n",
    "  <msub>\n",
    "    <mi>m</mi>\n",
    "    <mn>2</mn>\n",
    "  </msub>\n",
    "  <mo>=</mo>\n",
    "  <msubsup>\n",
    "    <mi>m</mi>\n",
    "    <mn>2</mn>\n",
    "    <mo>&#x2032;</mo>\n",
    "  </msubsup>\n",
    "  <mo>&#x2212;<!-- − --></mo>\n",
    "  <msubsup>\n",
    "    <mi>m</mi>\n",
    "    <mn>1</mn>\n",
    "    <mrow>\n",
    "      <mo class=\"MJX-variant\">&#x2032;</mo>\n",
    "      <mn>2</mn>\n",
    "    </mrow>\n",
    "  </msubsup>\n",
    "</math>\n"
   ]
  },
  {
   "cell_type": "code",
   "execution_count": 93,
   "id": "926b27e4",
   "metadata": {},
   "outputs": [
    {
     "name": "stdout",
     "output_type": "stream",
     "text": [
      "Fm2 8.305599999999984\n",
      "Second Moment of Normal: 8.305600000000007\n"
     ]
    }
   ],
   "source": [
    "Fm2= ((aS_Moment_normal_75)-(aFirst_Moment_normal_75)**2)\n",
    "print(\"Fm2\", Fm2)\n",
    "\n",
    "\n",
    "\n",
    "asum_normal_2ndM=0\n",
    "\n",
    "for i in data_sheet[\"Normal\"].values:  \n",
    "    asum_normal_2ndM += ((i)-First_Moment_normal) ** 2\n",
    "\n",
    "aS_Moment_normal= asum_normal_2ndM / len(data_sheet[\"Normal\"].values)\n",
    "print(\"Second Moment of Normal:\", aS_Moment_normal) \n"
   ]
  },
  {
   "cell_type": "markdown",
   "id": "247e5e7e",
   "metadata": {},
   "source": [
    "# b.) We have shown here that both are equal\n",
    "<i>\n",
    "    <math xmlns=\"http://www.w3.org/1998/Math/MathML\">\n",
    "  <msub>\n",
    "    <mi>m</mi>\n",
    "    <mn>3</mn>\n",
    "  </msub>\n",
    "  <mo>=</mo>\n",
    "  <msubsup>\n",
    "    <mi>m</mi>\n",
    "    <mn>3</mn>\n",
    "    <mo>&#x2032;</mo>\n",
    "  </msubsup>\n",
    "  <mo>&#x2212;<!-- − --></mo>\n",
    "  <mn>3</mn>\n",
    "  <msubsup>\n",
    "    <mi>m</mi>\n",
    "    <mn>1</mn>\n",
    "    <mo>&#x2032;</mo>\n",
    "  </msubsup>\n",
    "  <msubsup>\n",
    "    <mi>m</mi>\n",
    "    <mn>2</mn>\n",
    "    <mo>&#x2032;</mo>\n",
    "  </msubsup>\n",
    "  <mo>+</mo>\n",
    "  <mn>2</mn>\n",
    "  <msubsup>\n",
    "    <mi>m</mi>\n",
    "    <mn>1</mn>\n",
    "    <mrow>\n",
    "      <mo class=\"MJX-variant\">&#x2032;</mo>\n",
    "      <mn>3</mn>\n",
    "    </mrow>\n",
    "  </msubsup>\n",
    "</math>\n"
   ]
  },
  {
   "cell_type": "code",
   "execution_count": 94,
   "id": "81e8369a",
   "metadata": {
    "scrolled": true
   },
   "outputs": [
    {
     "name": "stdout",
     "output_type": "stream",
     "text": [
      "Fm2 -0.4717440000001716\n",
      "Third Moment of Normal: -0.47174400000011113\n"
     ]
    }
   ],
   "source": [
    "\n",
    "Fm3= ((aT_Moment_normal_75)-((3)*(aFirst_Moment_normal_75)*(aS_Moment_normal_75))+((2)*((aFirst_Moment_normal_75)**3)))\n",
    "print(\"Fm2\", Fm3)\n",
    "\n",
    "\n",
    "bsum_normal_3rdM=0\n",
    "\n",
    "\n",
    "for i in data_sheet[\"Normal\"].values:  \n",
    "    bsum_normal_3rdM += ((i)-First_Moment_normal) ** 3\n",
    "\n",
    "aT_Moment_normal= bsum_normal_3rdM / len(data_sheet[\"Normal\"].values)\n",
    "print(\"Third Moment of Normal:\", aT_Moment_normal) "
   ]
  },
  {
   "cell_type": "markdown",
   "id": "3c9683b5",
   "metadata": {},
   "source": [
    "# c.) We have shown here that both are equal\n",
    "<i>\n",
    "    <math xmlns=\"http://www.w3.org/1998/Math/MathML\">\n",
    "  <msub>\n",
    "    <mi>m</mi>\n",
    "    <mn>4</mn>\n",
    "  </msub>\n",
    "  <mo>=</mo>\n",
    "  <msubsup>\n",
    "    <mi>m</mi>\n",
    "    <mn>4</mn>\n",
    "    <mo>&#x2032;</mo>\n",
    "  </msubsup>\n",
    "  <mo>&#x2212;<!-- − --></mo>\n",
    "  <mn>4</mn>\n",
    "  <msubsup>\n",
    "    <mi>m</mi>\n",
    "    <mn>1</mn>\n",
    "    <mo>&#x2032;</mo>\n",
    "  </msubsup>\n",
    "  <msubsup>\n",
    "    <mi>m</mi>\n",
    "    <mn>3</mn>\n",
    "    <mo>&#x2032;</mo>\n",
    "  </msubsup>\n",
    "  <mo>+</mo>\n",
    "  <mn>6</mn>\n",
    "  <msubsup>\n",
    "    <mi>m</mi>\n",
    "    <mn>1</mn>\n",
    "    <mrow>\n",
    "      <mo class=\"MJX-variant\">&#x2032;</mo>\n",
    "      <mn>2</mn>\n",
    "    </mrow>\n",
    "  </msubsup>\n",
    "  <msubsup>\n",
    "    <mi>m</mi>\n",
    "    <mn>2</mn>\n",
    "    <mo>&#x2032;</mo>\n",
    "  </msubsup>\n",
    "  <mo>&#x2212;<!-- − --></mo>\n",
    "  <mn>3</mn>\n",
    "  <msubsup>\n",
    "    <mi>m</mi>\n",
    "    <mn>1</mn>\n",
    "    <mrow>\n",
    "      <mo class=\"MJX-variant\">&#x2032;</mo>\n",
    "      <mn>4</mn>\n",
    "    </mrow>\n",
    "  </msubsup>\n",
    "</math>\n"
   ]
  },
  {
   "cell_type": "code",
   "execution_count": 95,
   "id": "036023d6",
   "metadata": {},
   "outputs": [
    {
     "name": "stdout",
     "output_type": "stream",
     "text": [
      "Fm4 160.94862591999117\n",
      "Fourth Moment of Normal: 160.94862592000004\n"
     ]
    }
   ],
   "source": [
    "\n",
    "\n",
    "Fm4= ((aF_Moment_normal_75)-((4)*(aFirst_Moment_normal_75)*(aT_Moment_normal_75))+((6)*((aFirst_Moment_normal_75)**2)*(aS_Moment_normal_75))-((3)*((aFirst_Moment_normal_75)**4)))\n",
    "print(\"Fm4\", Fm4)\n",
    "\n",
    "csum_normal_4thM=0\n",
    "\n",
    "\n",
    "for i in data_sheet[\"Normal\"].values:  \n",
    "    csum_normal_4thM += ((i)-First_Moment_normal) ** 4\n",
    "\n",
    "aF_Moment_normal= csum_normal_4thM / len(data_sheet[\"Normal\"].values)\n",
    "print(\"Fourth Moment of Normal:\", aF_Moment_normal) \n"
   ]
  }
 ],
 "metadata": {
  "kernelspec": {
   "display_name": "Python 3 (ipykernel)",
   "language": "python",
   "name": "python3"
  },
  "language_info": {
   "codemirror_mode": {
    "name": "ipython",
    "version": 3
   },
   "file_extension": ".py",
   "mimetype": "text/x-python",
   "name": "python",
   "nbconvert_exporter": "python",
   "pygments_lexer": "ipython3",
   "version": "3.11.3"
  }
 },
 "nbformat": 4,
 "nbformat_minor": 5
}
